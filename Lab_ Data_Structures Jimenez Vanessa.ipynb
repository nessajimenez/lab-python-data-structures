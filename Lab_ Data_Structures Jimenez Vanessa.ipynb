{
 "cells": [
  {
   "cell_type": "code",
   "execution_count": 1,
   "id": "3faa4bb6",
   "metadata": {},
   "outputs": [],
   "source": [
    "products = [\"t-shirt\", \"mug\", \"hat\", \"book\", \"keychain\"]\n",
    "inventory = {}"
   ]
  },
  {
   "cell_type": "code",
   "execution_count": 2,
   "id": "8abd7649",
   "metadata": {},
   "outputs": [
    {
     "name": "stdout",
     "output_type": "stream",
     "text": [
      "Input the quantity of t-shirts available in inventory: 5\n",
      "Input the quantity of mugs available in inventory: 5\n",
      "Input the quantity of hats available in inventory: 5\n",
      "Input the quantity of books available in inventory: 5\n",
      "Input the quantity of keychains available in inventory: 5\n",
      "{'t-shirt': 5, 'mug': 5, 'hat': 5, 'book': 5, 'keychain': 5}\n"
     ]
    }
   ],
   "source": [
    "inventory['t-shirt'] = int(input(\"Input the quantity of t-shirts available in inventory: \"))\n",
    "inventory['mug']= int(input(\"Input the quantity of mugs available in inventory: \"))\n",
    "inventory['hat']= int(input(\"Input the quantity of hats available in inventory: \"))\n",
    "inventory['book']= int(input(\"Input the quantity of books available in inventory: \"))\n",
    "inventory['keychain']= int(input(\"Input the quantity of keychains available in inventory: \"))\n",
    "print(inventory)"
   ]
  },
  {
   "cell_type": "code",
   "execution_count": 3,
   "id": "b604979f",
   "metadata": {},
   "outputs": [
    {
     "data": {
      "text/plain": [
       "set"
      ]
     },
     "execution_count": 3,
     "metadata": {},
     "output_type": "execute_result"
    }
   ],
   "source": [
    "customer_orders = set()\n",
    "type(customer_orders)"
   ]
  },
  {
   "cell_type": "code",
   "execution_count": 4,
   "id": "1d8ff711",
   "metadata": {},
   "outputs": [
    {
     "name": "stdout",
     "output_type": "stream",
     "text": [
      "Name a product the customer would like to order: t-shirt\n",
      "Name a product the customer would like to order: mug\n",
      "Name a product the customer would like to order: hat\n"
     ]
    }
   ],
   "source": [
    "order1= input(\"Name a product the customer would like to order: \")\n",
    "customer_orders.add(order1)\n",
    "order2= input(\"Name a product the customer would like to order: \")\n",
    "customer_orders.add(order2)\n",
    "order3= input(\"Name a product the customer would like to order: \")\n",
    "customer_orders.add(order3)\n",
    "\n"
   ]
  },
  {
   "cell_type": "code",
   "execution_count": 5,
   "id": "2838c9ca",
   "metadata": {
    "scrolled": true
   },
   "outputs": [
    {
     "name": "stdout",
     "output_type": "stream",
     "text": [
      "{'hat', 't-shirt', 'mug'}\n",
      "3\n"
     ]
    }
   ],
   "source": [
    "print(customer_orders)\n",
    "order_amounts= len(customer_orders)\n",
    "print(order_amounts)"
   ]
  },
  {
   "cell_type": "code",
   "execution_count": 6,
   "id": "07fb62d0",
   "metadata": {},
   "outputs": [
    {
     "data": {
      "text/plain": [
       "tuple"
      ]
     },
     "execution_count": 6,
     "metadata": {},
     "output_type": "execute_result"
    }
   ],
   "source": [
    "percents=len(customer_orders.intersection(products))/len(products)*100\n",
    "order_status=(percents,)\n",
    "type(order_status)\n"
   ]
  },
  {
   "cell_type": "code",
   "execution_count": 7,
   "id": "196c0e93",
   "metadata": {},
   "outputs": [
    {
     "name": "stdout",
     "output_type": "stream",
     "text": [
      "Products ordered:  3\n",
      "Percentage of Products Ordered:  (60.0,) %\n"
     ]
    }
   ],
   "source": [
    "print(\"Products ordered: \", order_amounts)\n",
    "print(\"Percentage of Products Ordered: \",order_status,'%')"
   ]
  },
  {
   "cell_type": "code",
   "execution_count": 15,
   "id": "3d5352ed",
   "metadata": {},
   "outputs": [
    {
     "name": "stdout",
     "output_type": "stream",
     "text": [
      "{'t-shirt': -2, 'mug': -2, 'hat': -2, 'book': 0, 'keychain': 3}\n"
     ]
    }
   ],
   "source": [
    "# Update the inventory by subtracting 1 from the quantity of each product. Modify the inventory dictionary accordingly.\n",
    "\n",
    "if 't-shirt' in order1 or 't-shirt' in order2 or 't-shirt' in order3:\n",
    "    inventory['t-shirt'] -= 1\n",
    "if 'mug' in order1 or 'mug' in order2 or 'mug' in order3:\n",
    "    inventory['mug'] -= 1\n",
    "if 'hat' in order1 or order2 or order3:\n",
    "    inventory['hat'] -= 1\n",
    "if 'book' in order1 or 'book' in order2 or 'book' in order3:\n",
    "    inventory['book'] -= 1\n",
    "if 'keychain' in order1 or'keychain' in order2 or 'keychain' in order3:\n",
    "    inventory['keychain'] -=1\n",
    "else:\n",
    "    pass\n"
   ]
  },
  {
   "cell_type": "code",
   "execution_count": 19,
   "id": "16f63f75",
   "metadata": {},
   "outputs": [
    {
     "name": "stdout",
     "output_type": "stream",
     "text": [
      "-2\n",
      "-2\n",
      "-2\n",
      "0\n",
      "3\n"
     ]
    }
   ],
   "source": [
    "print(inventory['t-shirt'])\n",
    "print(inventory['mug'])\n",
    "print(inventory['hat'])\n",
    "print(inventory['book'])\n",
    "print(inventory['keychain'])"
   ]
  }
 ],
 "metadata": {
  "kernelspec": {
   "display_name": "Python 3 (ipykernel)",
   "language": "python",
   "name": "python3"
  },
  "language_info": {
   "codemirror_mode": {
    "name": "ipython",
    "version": 3
   },
   "file_extension": ".py",
   "mimetype": "text/x-python",
   "name": "python",
   "nbconvert_exporter": "python",
   "pygments_lexer": "ipython3",
   "version": "3.11.7"
  }
 },
 "nbformat": 4,
 "nbformat_minor": 5
}
