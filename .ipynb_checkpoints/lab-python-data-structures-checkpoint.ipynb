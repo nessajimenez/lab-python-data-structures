{
 "cells": [
  {
   "cell_type": "markdown",
   "metadata": {
    "tags": []
   },
   "source": [
    "# Lab | Data Structures "
   ]
  },
  {
   "cell_type": "markdown",
   "metadata": {},
   "source": [
    "## Exercise: Managing Customer Orders\n",
    "\n",
    "As part of a business venture, you are starting an online store that sells various products. To ensure smooth operations, you need to develop a program that manages customer orders and inventory.\n",
    "\n",
    "Follow the steps below to complete the exercise:\n",
    "\n",
    "1. Define a list called `products` that contains the following items: \"t-shirt\", \"mug\", \"hat\", \"book\", \"keychain\".\n",
    "\n",
    "2. Create an empty dictionary called `inventory`.\n",
    "\n",
    "3. Ask the user to input the quantity of each product available in the inventory. Use the product names from the `products` list as keys in the `inventory` dictionary and assign the respective quantities as values.\n",
    "\n",
    "4. Create an empty set called `customer_orders`.\n",
    "\n",
    "5. Ask the user to input the name of three products that a customer wants to order (from those in the products list, meaning three products out of \"t-shirt\", \"mug\", \"hat\", \"book\" or \"keychain\". Add each product name to the `customer_orders` set.\n",
    "\n",
    "6. Print the products in the `customer_orders` set.\n",
    "\n",
    "7. Calculate the following order statistics:\n",
    "   - Total Products Ordered: The total number of products in the `customer_orders` set.\n",
    "   - Percentage of Products Ordered: The percentage of products ordered compared to the total available products.\n",
    "   \n",
    "   Store these statistics in a tuple called `order_status`.\n",
    "\n",
    "8. Print the order statistics using the following format:\n",
    "   ```\n",
    "   Order Statistics:\n",
    "   Total Products Ordered: <total_products_ordered>\n",
    "   Percentage of Products Ordered: <percentage_ordered>% \n",
    "   ```\n",
    "\n",
    "9. Update the inventory by subtracting 1 from the quantity of each product. Modify the `inventory` dictionary accordingly.\n",
    "\n",
    "10. Print the updated inventory, displaying the quantity of each product on separate lines.\n",
    "\n",
    "Solve the exercise by implementing the steps using the Python concepts of lists, dictionaries, sets, and basic input/output operations. "
   ]
  },
  {
   "cell_type": "code",
   "execution_count": 2,
   "metadata": {},
   "outputs": [
    {
     "name": "stdout",
     "output_type": "stream",
     "text": [
      "How many t-shirts are available? 34\n",
      "How many mugs are available? 43\n",
      "How many hats are available? 56\n",
      "How many books are available? 46\n",
      "How many keychains are available? 7\n"
     ]
    }
   ],
   "source": [
    "#### initializing inventory\n",
    "products = [\"t-shirt\",\"mug\",\"hat\",\"book\",\"keychain\"]\n",
    "inventory = {}\n",
    "\n",
    "while True:\n",
    "    try:\n",
    "        for p in products:\n",
    "            quantity = input(f\"How many {p}s are available? \")\n",
    "            quantity = int(quantity)\n",
    "            inventory[p] = quantity\n",
    "    except ValueError:\n",
    "        print(\"Please only enter integers.\")\n",
    "    finally:\n",
    "        break"
   ]
  },
  {
   "cell_type": "code",
   "execution_count": 29,
   "metadata": {},
   "outputs": [
    {
     "name": "stdout",
     "output_type": "stream",
     "text": [
      "Which of the following products would you like to order? ['t-shirt', 'mug', 'hat', 'book', 'keychain']: hat\n",
      "Which of the following products would you like to order? ['t-shirt', 'mug', 'hat', 'book', 'keychain']: book\n",
      "Which of the following products would you like to order? ['t-shirt', 'mug', 'hat', 'book', 'keychain']: keychain\n",
      "Thank you for your order.\n",
      "Your order: {'book', 'keychain', 'hat'}\n"
     ]
    }
   ],
   "source": [
    "## getting orders\n",
    "customer_orders = set()\n",
    "\n",
    "\n",
    "for n in range(3):\n",
    "    product = input(f\"Which of the following products would you like to order? {products}: \")\n",
    "    if product not in inventory:\n",
    "        raise ValueError(\"Product not found\") \n",
    "    customer_orders.add(product)\n",
    "    inventory[product] -= 1  \n",
    "print(\"Thank you for your order.\")\n",
    "print(f\"Your order: {customer_orders}\")"
   ]
  },
  {
   "cell_type": "code",
   "execution_count": 30,
   "metadata": {},
   "outputs": [
    {
     "name": "stdout",
     "output_type": "stream",
     "text": [
      "Order Statistics:\n",
      "Total Products Ordered: 3\n",
      "Percentage of Products Ordered: 2%\n",
      "\n",
      "Inventory:\n",
      "t-shirt:33\n",
      "mug:41\n",
      "hat:51\n",
      "book:43\n",
      "keychain:5\n"
     ]
    }
   ],
   "source": [
    "## Stats\n",
    "print(\"Order Statistics:\")\n",
    "print(f\"Total Products Ordered: {len(customer_orders)}\")\n",
    "\n",
    "total_inv = 0\n",
    "for i,k in inventory.items():\n",
    "    total_inv += k\n",
    "\n",
    "percent_ordered = (len(customer_orders)/total_inv)*100\n",
    "print(f\"Percentage of Products Ordered: {round(percent_ordered)}%\")\n",
    "print()\n",
    "print(\"Inventory:\")\n",
    "\n",
    "for i,k in inventory.items():\n",
    "    print(f\"{i}:{k}\")"
   ]
  }
 ],
 "metadata": {
  "kernelspec": {
   "display_name": "Python 3 (ipykernel)",
   "language": "python",
   "name": "python3"
  },
  "language_info": {
   "codemirror_mode": {
    "name": "ipython",
    "version": 3
   },
   "file_extension": ".py",
   "mimetype": "text/x-python",
   "name": "python",
   "nbconvert_exporter": "python",
   "pygments_lexer": "ipython3",
   "version": "3.11.7"
  }
 },
 "nbformat": 4,
 "nbformat_minor": 4
}
